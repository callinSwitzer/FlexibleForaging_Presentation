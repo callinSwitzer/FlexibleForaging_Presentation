{
 "cells": [
  {
   "cell_type": "markdown",
   "metadata": {},
   "source": [
    "## Callin Switzer\n",
    "- Update 15 Dec 2018\n",
    "- Make Supplemental Figure to show accelerometer recording \n",
    "- and spectrum"
   ]
  },
  {
   "cell_type": "code",
   "execution_count": 1,
   "metadata": {
    "collapsed": true
   },
   "outputs": [],
   "source": [
    "import pandas as pd\n",
    "import numpy as np\n",
    "%matplotlib inline\n",
    "import matplotlib.pyplot as plt\n",
    "from matplotlib import gridspec\n",
    "import seaborn as sns\n",
    "import os\n",
    "import csv\n",
    "import time"
   ]
  },
  {
   "cell_type": "code",
   "execution_count": 2,
   "metadata": {
    "collapsed": true
   },
   "outputs": [],
   "source": [
    "fle = os.path.join(os.path.dirname(os.getcwd()), \"data\", \"RawAccelRecording.txt\")\n",
    "exx = np.transpose(pd.read_csv(fle, sep = \" \", header = None))"
   ]
  },
  {
   "cell_type": "code",
   "execution_count": 3,
   "metadata": {},
   "outputs": [
    {
     "data": {
      "text/html": [
       "<div>\n",
       "<style scoped>\n",
       "    .dataframe tbody tr th:only-of-type {\n",
       "        vertical-align: middle;\n",
       "    }\n",
       "\n",
       "    .dataframe tbody tr th {\n",
       "        vertical-align: top;\n",
       "    }\n",
       "\n",
       "    .dataframe thead th {\n",
       "        text-align: right;\n",
       "    }\n",
       "</style>\n",
       "<table border=\"1\" class=\"dataframe\">\n",
       "  <thead>\n",
       "    <tr style=\"text-align: right;\">\n",
       "      <th></th>\n",
       "      <th>0</th>\n",
       "      <th>1</th>\n",
       "    </tr>\n",
       "  </thead>\n",
       "  <tbody>\n",
       "    <tr>\n",
       "      <th>0</th>\n",
       "      <td>0.000000</td>\n",
       "      <td>-0.014654</td>\n",
       "    </tr>\n",
       "    <tr>\n",
       "      <th>1</th>\n",
       "      <td>0.000005</td>\n",
       "      <td>-0.015952</td>\n",
       "    </tr>\n",
       "    <tr>\n",
       "      <th>2</th>\n",
       "      <td>0.000010</td>\n",
       "      <td>-0.015628</td>\n",
       "    </tr>\n",
       "    <tr>\n",
       "      <th>3</th>\n",
       "      <td>0.000015</td>\n",
       "      <td>-0.014654</td>\n",
       "    </tr>\n",
       "    <tr>\n",
       "      <th>4</th>\n",
       "      <td>0.000020</td>\n",
       "      <td>-0.015303</td>\n",
       "    </tr>\n",
       "  </tbody>\n",
       "</table>\n",
       "</div>"
      ],
      "text/plain": [
       "          0         1\n",
       "0  0.000000 -0.014654\n",
       "1  0.000005 -0.015952\n",
       "2  0.000010 -0.015628\n",
       "3  0.000015 -0.014654\n",
       "4  0.000020 -0.015303"
      ]
     },
     "execution_count": 3,
     "metadata": {},
     "output_type": "execute_result"
    }
   ],
   "source": [
    "exx.head()"
   ]
  },
  {
   "cell_type": "code",
   "execution_count": 4,
   "metadata": {},
   "outputs": [
    {
     "data": {
      "text/plain": [
       "20000"
      ]
     },
     "execution_count": 4,
     "metadata": {},
     "output_type": "execute_result"
    }
   ],
   "source": [
    "len(exx)"
   ]
  },
  {
   "cell_type": "code",
   "execution_count": 5,
   "metadata": {
    "collapsed": true
   },
   "outputs": [],
   "source": [
    "# convert data to m/s/s\n",
    "data = np.array(exx.loc[:,1])*1000 / 10.17\n",
    "data = data - np.mean(data)\n",
    "\n",
    "log_rate = 200000.0\n",
    "\n",
    "n =len(data) # length of the signal\n",
    "k = np.arange(n, step = 1)\n",
    "T = n/log_rate\n",
    "frq = k/T # two sides frequency range\n",
    "frq = frq[range(int(n/2))] # one side frequency range\n",
    "\n",
    "Y = np.fft.fft(data)/n * 2# fft computing and normalization\n",
    "Y = Y[range(int(n/2))]\n",
    "\n",
    "# calculate top frequency\n",
    "ind = np.argpartition(abs(Y), -4)[-4:]\n",
    "# Find highest point on the spectrum\n",
    "peakFrq = frq[ind[::-1]]\n",
    "pwr = (abs(Y)[ind[::-1]])\n",
    "domPK = [x for (y,x) in sorted(zip(pwr,peakFrq), reverse = True)][0]\n",
    "\n",
    "beeFrqPwr = pwr[peakFrq == domPK]"
   ]
  },
  {
   "cell_type": "code",
   "execution_count": 17,
   "metadata": {},
   "outputs": [
    {
     "data": {
      "image/png": "[encoded data removed]",
      "text/plain": [
       "<Figure size 360x216 with 2 Axes>"
      ]
     },
     "metadata": {},
     "output_type": "display_data"
    }
   ],
   "source": [
    "plt.figure(figsize=(5,3))\n",
    "gs = gridspec.GridSpec(1, 2, width_ratios=[2, 1]) \n",
    "\n",
    "# create subplot 1\n",
    "ax1 = plt.subplot(gs[0])\n",
    "#ax1.plot(smth[:,0], smth[:, 1], linestyle= ':', color = 'grey', label = \"Envelope\")\n",
    "#ax1.plot(smth2[:,0], smth2[:, 1], linestyle= ':', color = 'grey')\n",
    "#plt.legend(loc=\"upper center\")\n",
    "ax1.plot(np.array(range(len(exx)))/ float(log_rate), data,color = 'black', linewidth=0.5 )\n",
    "#ax1.set_ylabel(\"Acceleration (m s$^{-2})$\")\n",
    "ax1.set_ylabel(\"Acceleration (m s$^{-2})$\")\n",
    "ax1.set_xlabel(\"Time (s)\")\n",
    "ax1.set_frame_on(False)\n",
    "ax1.axhline(y=np.max(data), color='grey', linestyle='--', linewidth = 0.5)\n",
    "ax1.axhline(y=np.min(data), color='grey', linestyle='--', linewidth = 0.5)\n",
    "ax1.set_xlim(-0.0002, 0.15)\n",
    "ax1.set_ylim(-0.17*1000 / 10.19, 0.17*1000 / 10.19)\n",
    "\n",
    "ax1.annotate(' ', xy=(0.125, np.min(data)), xytext=(0.125, -0.00),\n",
    "            arrowprops=dict(facecolor='black', width = 1, headwidth = 4)\n",
    "            )\n",
    "ax1.annotate(' ', xy=(0.125, np.max(data)), xytext=(0.125, 0.014*1000 / 10.19),\n",
    "            arrowprops=dict(facecolor='black', width = 1, headwidth = 4)\n",
    "            )\n",
    "\n",
    "ax1.annotate('(Max - Min)/2:\\n   13.83 m s$^{-2}$', xy=(0.11, np.min(data)), xytext=(0.110, 0), \n",
    "             size=8\n",
    "            )\n",
    "\n",
    "ax1.annotate('Max: 12.86 m s$^{-2}$', xy=(0.11, np.min(data)), xytext=(0.107, np.max(data) + 0.1*np.std(data)), \n",
    "             size=8\n",
    "            )\n",
    "\"\"\n",
    "ax1.annotate('Min: -14.80 m s$^{-2}$', xy=(0.11, np.min(data)), xytext=(0.107, np.min(data) - 0.35*np.std(data)), \n",
    "             size=8\n",
    "            )\n",
    "\n",
    "ax1.plot([0,0.1], [ax1.get_ylim()[0], ax1.get_ylim()[0]], 'black', linewidth = 1)\n",
    "ax1.plot([ax1.get_xlim()[0],ax1.get_xlim()[0]], [ax1.get_ylim()[0], 0.152*1000 / 10.19], 'black', linewidth = 1.5)\n",
    "# add \"L\" shaped borders\n",
    "#ax1.axvline(x = ax1.get_xlim()[0], linewidth = 1, color = 'black')\n",
    "#ax1.axhline(y = ax1.get_ylim()[0], linewidth = 1, color = 'black')\n",
    "ax1.axes.xaxis.set_ticklabels([0.000, 0.000,  \"\", 0.05, \"\", 0.100])\n",
    "ax1.axes.xaxis.set_ticks([0.000, 0.000,  0.025, 0.05, 0.075, 0.100])\n",
    "ax1.xaxis.set_label_coords(0.342, -0.1)\n",
    "\n",
    "\n",
    "def get_axis_limits(ax, scale=.98):\n",
    "    return ax.get_xlim()[0] + np.diff(ax.get_xlim())*0.05, ax.get_ylim()[1]*scale     \n",
    "\n",
    "# create subplot 2\n",
    "ax2 = plt.subplot(gs[1])\n",
    "ax2.plot(frq,abs(Y), color = \"black\", linewidth=1)\n",
    "ax2.plot(domPK, beeFrqPwr,'o', color = 'black', markersize = 5)\n",
    "ax2.annotate('350 Hz', xy=(domPK, beeFrqPwr), xytext=(domPK + 40, beeFrqPwr- 0.0001), size = 12\n",
    "            )\n",
    "ax2.set_xlim(-3, 1003)\n",
    "ax2.set_ylabel('Relative amplitude')\n",
    "ax2.set_xlabel('Frequency (Hz)')\n",
    "plt.tight_layout()\n",
    "ax2.set_frame_on(False)\n",
    "ax2.axes.yaxis.set_ticklabels([])\n",
    "ax2.axes.yaxis.set_ticks([])\n",
    "ax2.set_ylim(0, 0.013*1000 / 10.19*2)\n",
    "\n",
    "#### add \"L\" shaped borders\n",
    "ax2.plot([ax2.get_xlim()[0],ax2.get_xlim()[0]], [ax2.get_ylim()[0], 0.0127*1000 / 10.17*2], 'black', linewidth = 1)\n",
    "ax2.plot([0,1500], [ax2.get_ylim()[0], ax2.get_ylim()[0]], 'black', linewidth = 1)\n",
    "\n",
    "\n",
    "saveFileName = os.path.join(os.path.dirname(os.getcwd()), \"figures\", \"exampleSpectrum_big.png\")\n",
    "plt.savefig(saveFileName, width = 5, height = 1.1, dpi = 500)\n",
    "\n",
    "plt.show()\n"
   ]
  },
  {
   "cell_type": "code",
   "execution_count": 7,
   "metadata": {
    "collapsed": true
   },
   "outputs": [
    {
     "name": "stdout",
     "output_type": "stream",
     "text": [
      "{'commit_hash': 'dd83a2163',\n",
      " 'commit_source': 'installation',\n",
      " 'default_encoding': '1252',\n",
      " 'ipython_path': 'C:\\\\Users\\\\calli\\\\Anaconda3\\\\envs\\\\timeseries_learn_gpu\\\\lib\\\\site-packages\\\\IPython',\n",
      " 'ipython_version': '6.5.0',\n",
      " 'os_name': 'nt',\n",
      " 'platform': 'Windows-10-10.0.17134-SP0',\n",
      " 'sys_executable': 'C:\\\\Users\\\\calli\\\\Anaconda3\\\\envs\\\\timeseries_learn_gpu\\\\python.exe',\n",
      " 'sys_platform': 'win32',\n",
      " 'sys_version': '3.6.6 | packaged by conda-forge | (default, Jul 26 2018, '\n",
      "                '11:48:23) [MSC v.1900 64 bit (AMD64)]'}\n"
     ]
    }
   ],
   "source": [
    "# print system info\n",
    "import IPython\n",
    "print(IPython.sys_info())"
   ]
  },
  {
   "cell_type": "code",
   "execution_count": 8,
   "metadata": {
    "collapsed": true
   },
   "outputs": [
    {
     "name": "stderr",
     "output_type": "stream",
     "text": [
      "[NbConvertApp] Converting notebook 008_ExampleFigureSpectrum.ipynb to html\n",
      "[NbConvertApp] Writing 318656 bytes to 008_ExampleFigureSpectrum.html\n"
     ]
    }
   ],
   "source": [
    "# convert to html\n",
    "!jupyter nbconvert --to html 008_ExampleFigureSpectrum"
   ]
  },
  {
   "cell_type": "code",
   "execution_count": null,
   "metadata": {},
   "outputs": [],
   "source": []
  }
 ],
 "metadata": {
  "kernelspec": {
   "display_name": "timeseries_learn",
   "language": "python",
   "name": "timeseries_learn"
  },
  "language_info": {
   "codemirror_mode": {
    "name": "ipython",
    "version": 3
   },
   "file_extension": ".py",
   "mimetype": "text/x-python",
   "name": "python",
   "nbconvert_exporter": "python",
   "pygments_lexer": "ipython3",
   "version": "3.6.6"
  }
 },
 "nbformat": 4,
 "nbformat_minor": 2
}
